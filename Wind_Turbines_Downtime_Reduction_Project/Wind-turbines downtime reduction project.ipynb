{
 "cells": [
  {
   "cell_type": "code",
   "execution_count": 2,
   "id": "a85addba-eee4-4c0b-89eb-88d6c1647be8",
   "metadata": {},
   "outputs": [],
   "source": [
    "#!pip install cookiecutter-data-science"
   ]
  },
  {
   "cell_type": "code",
   "execution_count": 3,
   "id": "2f9aaef3-c036-4f3b-9ba6-96c20ab5fcd2",
   "metadata": {},
   "outputs": [
    {
     "ename": "NameError",
     "evalue": "name 'ccds' is not defined",
     "output_type": "error",
     "traceback": [
      "\u001b[1;31m---------------------------------------------------------------------------\u001b[0m",
      "\u001b[1;31mNameError\u001b[0m                                 Traceback (most recent call last)",
      "Cell \u001b[1;32mIn[3], line 1\u001b[0m\n\u001b[1;32m----> 1\u001b[0m ccds\n",
      "\u001b[1;31mNameError\u001b[0m: name 'ccds' is not defined"
     ]
    }
   ],
   "source": []
  }
 ],
 "metadata": {
  "kernelspec": {
   "display_name": "Python 3 (ipykernel)",
   "language": "python",
   "name": "python3"
  },
  "language_info": {
   "codemirror_mode": {
    "name": "ipython",
    "version": 3
   },
   "file_extension": ".py",
   "mimetype": "text/x-python",
   "name": "python",
   "nbconvert_exporter": "python",
   "pygments_lexer": "ipython3",
   "version": "3.12.5"
  }
 },
 "nbformat": 4,
 "nbformat_minor": 5
}
