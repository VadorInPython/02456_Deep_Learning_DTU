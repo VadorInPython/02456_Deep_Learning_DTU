{
 "cells": [
  {
   "cell_type": "code",
   "execution_count": 2,
   "id": "a85addba-eee4-4c0b-89eb-88d6c1647be8",
   "metadata": {},
   "outputs": [],
   "source": [
    "#!pip install cookiecutter-data-science"
   ]
  },
  {
   "cell_type": "code",
   "execution_count": null,
   "id": "2f9aaef3-c036-4f3b-9ba6-96c20ab5fcd2",
   "metadata": {},
   "outputs": [],
   "source": []
  }
 ],
 "metadata": {
  "kernelspec": {
   "display_name": "Python 3 (ipykernel)",
   "language": "python",
   "name": "python3"
  },
  "language_info": {
   "codemirror_mode": {
    "name": "ipython",
    "version": 3
   },
   "file_extension": ".py",
   "mimetype": "text/x-python",
   "name": "python",
   "nbconvert_exporter": "python",
   "pygments_lexer": "ipython3",
   "version": "3.12.5"
  }
 },
 "nbformat": 4,
 "nbformat_minor": 5
}
